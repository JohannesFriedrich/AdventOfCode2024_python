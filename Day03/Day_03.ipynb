{
 "cells": [
  {
   "cell_type": "markdown",
   "metadata": {},
   "source": [
    "# Part 1"
   ]
  },
  {
   "cell_type": "code",
   "execution_count": 6,
   "metadata": {},
   "outputs": [
    {
     "data": {
      "text/plain": [
       "184576302"
      ]
     },
     "execution_count": 6,
     "metadata": {},
     "output_type": "execute_result"
    }
   ],
   "source": [
    "import re\n",
    "\n",
    "file_name = \"input.txt\"\n",
    "file = open(file_name, \"r\")\n",
    "data = file.read().strip()\n",
    "\n",
    "muls = re.findall(r\"(?<=mul\\()(\\d{1,3}),(\\d{1,3})(?=\\))\", data)\n",
    "\n",
    "sum([int(x)*int(y) for (x,y) in muls])\n"
   ]
  },
  {
   "cell_type": "markdown",
   "metadata": {},
   "source": [
    "# Part 2"
   ]
  },
  {
   "cell_type": "code",
   "execution_count": 23,
   "metadata": {},
   "outputs": [
    {
     "data": {
      "text/plain": [
       "118173507"
      ]
     },
     "execution_count": 23,
     "metadata": {},
     "output_type": "execute_result"
    }
   ],
   "source": [
    "import re\n",
    "\n",
    "file_name = \"input.txt\"\n",
    "file = open(file_name, \"r\")\n",
    "data = file.read().strip()\n",
    "\n",
    "cleaned_data = re.sub(r\"don't\\(\\).*?(?:do\\(\\)|$)\", \"\", data)\n",
    "# print(cleaned_data)\n",
    "\n",
    "muls = re.findall(r\"(?<=mul\\()(\\d{1,3}),(\\d{1,3})(?=\\))\", cleaned_data)\n",
    "sum([int(x)*int(y) for (x,y) in muls])\n"
   ]
  }
 ],
 "metadata": {
  "kernelspec": {
   "display_name": "Python 3",
   "language": "python",
   "name": "python3"
  },
  "language_info": {
   "codemirror_mode": {
    "name": "ipython",
    "version": 3
   },
   "file_extension": ".py",
   "mimetype": "text/x-python",
   "name": "python",
   "nbconvert_exporter": "python",
   "pygments_lexer": "ipython3",
   "version": "3.12.6"
  }
 },
 "nbformat": 4,
 "nbformat_minor": 2
}
