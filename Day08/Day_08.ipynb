{
 "cells": [
  {
   "cell_type": "markdown",
   "metadata": {},
   "source": [
    "# Part 1"
   ]
  },
  {
   "cell_type": "code",
   "execution_count": 48,
   "metadata": {},
   "outputs": [
    {
     "name": "stdout",
     "output_type": "stream",
     "text": [
      "289\n"
     ]
    }
   ],
   "source": [
    "from collections import defaultdict\n",
    "from itertools import combinations\n",
    "\n",
    "file_name = \"input.txt\"\n",
    "\n",
    "file = open(file_name, \"r\")\n",
    "data = file.read().strip().split(\"\\n\")\n",
    "\n",
    "G = [[c for c in line] for line in data]\n",
    "\n",
    "C = len(G)\n",
    "R = len(G[0])\n",
    "\n",
    "antennas = defaultdict(list)\n",
    "\n",
    "for r in range(R):\n",
    "    for c in range(C):\n",
    "        if G[r][c] != \".\":\n",
    "            antennas[G[r][c]].append((r,c))\n",
    "\n",
    "antinodes = set()\n",
    "for antenna in antennas.values():\n",
    "    for combo in combinations(antenna,2):\n",
    "        a1, a2  = combo\n",
    "        \n",
    "        for i in [1,-2]:\n",
    "            dr = (a1[0]-a2[0])*i\n",
    "            dc = (a1[1]-a2[1])*i\n",
    "            if 0 <= a1[0] + dr < R and 0 <= a1[1] + dc < C:\n",
    "                antinodes.add((a1[0] + dr, a1[1] + dc))\n",
    "            \n",
    "print(len(antinodes))\n",
    "\n",
    "\n"
   ]
  },
  {
   "cell_type": "markdown",
   "metadata": {},
   "source": [
    "# Part 2"
   ]
  },
  {
   "cell_type": "code",
   "execution_count": 49,
   "metadata": {},
   "outputs": [
    {
     "name": "stdout",
     "output_type": "stream",
     "text": [
      "1030\n"
     ]
    }
   ],
   "source": [
    "from collections import defaultdict\n",
    "from itertools import combinations\n",
    "\n",
    "file_name = \"input.txt\"\n",
    "\n",
    "file = open(file_name, \"r\")\n",
    "data = file.read().strip().split(\"\\n\")\n",
    "\n",
    "G = [[c for c in line] for line in data]\n",
    "\n",
    "C = len(G)\n",
    "R = len(G[0])\n",
    "\n",
    "antennas = defaultdict(list)\n",
    "\n",
    "for r in range(R):\n",
    "    for c in range(C):\n",
    "        if G[r][c] != \".\":\n",
    "            antennas[G[r][c]].append((r,c))\n",
    "\n",
    "antinodes = set()\n",
    "for antenna in antennas.values():\n",
    "    for combo in combinations(antenna,2):\n",
    "        a1, a2  = combo\n",
    "        \n",
    "        for i in range(-max(C,R), max(R,C)):\n",
    "            dr = (a1[0]-a2[0])*i\n",
    "            dc = (a1[1]-a2[1])*i\n",
    "            if 0 <= a1[0] + dr < R and 0 <= a1[1] + dc < C:\n",
    "                antinodes.add((a1[0] + dr, a1[1] + dc))\n",
    "            \n",
    "print(len(antinodes))"
   ]
  },
  {
   "cell_type": "code",
   "execution_count": null,
   "metadata": {},
   "outputs": [],
   "source": []
  }
 ],
 "metadata": {
  "kernelspec": {
   "display_name": "Python 3",
   "language": "python",
   "name": "python3"
  },
  "language_info": {
   "codemirror_mode": {
    "name": "ipython",
    "version": 3
   },
   "file_extension": ".py",
   "mimetype": "text/x-python",
   "name": "python",
   "nbconvert_exporter": "python",
   "pygments_lexer": "ipython3",
   "version": "3.12.6"
  }
 },
 "nbformat": 4,
 "nbformat_minor": 2
}
