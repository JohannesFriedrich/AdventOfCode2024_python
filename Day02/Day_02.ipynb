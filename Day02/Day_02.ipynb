{
 "cells": [
  {
   "cell_type": "markdown",
   "metadata": {},
   "source": [
    "# Part 1"
   ]
  },
  {
   "cell_type": "code",
   "execution_count": 26,
   "metadata": {},
   "outputs": [
    {
     "data": {
      "text/plain": [
       "639"
      ]
     },
     "execution_count": 26,
     "metadata": {},
     "output_type": "execute_result"
    }
   ],
   "source": [
    "from itertools import pairwise\n",
    "\n",
    "file_name = \"input.txt\"\n",
    "file = open(file_name, \"r\")\n",
    "data = file.read().strip().split(\"\\n\")\n",
    "\n",
    "data = [[int(level) for level in report.split()] for report in data]\n",
    "\n",
    "def check_report(report):\n",
    "    diff = [y-x for (x, y) in pairwise(report)]\n",
    "    if all([i<0 for i in diff]) or all([i>0 for i in diff]):\n",
    "        if all([i in range(-3,4) for i in diff]):\n",
    "            return True\n",
    "        else:\n",
    "            return False\n",
    "    else:\n",
    "        return False\n",
    "\n",
    "sum([check_report(report) for report in data])\n",
    "    \n",
    "\n",
    "\n"
   ]
  },
  {
   "cell_type": "markdown",
   "metadata": {},
   "source": [
    "# Part 2"
   ]
  },
  {
   "cell_type": "code",
   "execution_count": 27,
   "metadata": {},
   "outputs": [
    {
     "name": "stdout",
     "output_type": "stream",
     "text": [
      "674\n"
     ]
    }
   ],
   "source": [
    "from itertools import pairwise\n",
    "\n",
    "file_name = \"input.txt\"\n",
    "file = open(file_name, \"r\")\n",
    "data = file.read().strip().split(\"\\n\")\n",
    "\n",
    "data = [[int(level) for level in report.split()] for report in data]\n",
    "\n",
    "def check_report(report):\n",
    "    diff = [y-x for (x, y) in pairwise(report)]\n",
    "    if all([i<0 for i in diff]) or all([i>0 for i in diff]):\n",
    "        if all([i in range(-3,4) for i in diff]):\n",
    "            return True\n",
    "        else:\n",
    "            return False\n",
    "    else:\n",
    "        return False\n",
    "    \n",
    "res = 0\n",
    "for report in data:\n",
    "    good = False\n",
    "    if check_report(report):\n",
    "        res += 1\n",
    "    else:\n",
    "        for i in range(len(report)):\n",
    "            short_report = report[:i] + report[i+1:]\n",
    "            if check_report(short_report):\n",
    "                good = True\n",
    "                res += 1\n",
    "                break\n",
    "    if good:\n",
    "        continue\n",
    "\n",
    "        \n",
    "print(res)        "
   ]
  }
 ],
 "metadata": {
  "kernelspec": {
   "display_name": "Python 3",
   "language": "python",
   "name": "python3"
  },
  "language_info": {
   "codemirror_mode": {
    "name": "ipython",
    "version": 3
   },
   "file_extension": ".py",
   "mimetype": "text/x-python",
   "name": "python",
   "nbconvert_exporter": "python",
   "pygments_lexer": "ipython3",
   "version": "3.12.6"
  }
 },
 "nbformat": 4,
 "nbformat_minor": 2
}
