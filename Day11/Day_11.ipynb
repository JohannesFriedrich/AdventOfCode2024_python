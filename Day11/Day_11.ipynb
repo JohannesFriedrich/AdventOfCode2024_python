{
 "cells": [
  {
   "cell_type": "markdown",
   "metadata": {},
   "source": [
    "# Part 1 & 2"
   ]
  },
  {
   "cell_type": "code",
   "execution_count": null,
   "metadata": {},
   "outputs": [
    {
     "data": {
      "text/plain": [
       "220566831337810"
      ]
     },
     "execution_count": 50,
     "metadata": {},
     "output_type": "execute_result"
    }
   ],
   "source": [
    "from collections import defaultdict\n",
    "from copy import deepcopy\n",
    "\n",
    "file_name = \"input.txt\"\n",
    "file = open(file_name, \"r\")\n",
    "stones = file.read().strip()\n",
    "\n",
    "stones_dict = defaultdict(int)\n",
    "\n",
    "for stone in stones.split(\" \"):\n",
    "    stones_dict[stone] += 1\n",
    "\n",
    "def execute_rules(stone):\n",
    "    if stone == \"0\":\n",
    "        return [\"1\"]\n",
    "    if len(stone)%2 == 0:\n",
    "        mid = len(stone)//2\n",
    "        return [stone[:mid] , str(int(stone[mid:]))]\n",
    "    else:\n",
    "        return [str(int(stone)*2024)]\n",
    "    \n",
    "assert execute_rules(\"0\") == [\"1\"]\n",
    "assert execute_rules(\"2\") == [\"4048\"]\n",
    "assert execute_rules(\"12000100\") == [\"1200\", \"100\"]\n",
    "\n",
    "for i in range(75):\n",
    "    new = deepcopy(stones_dict)\n",
    "    for stone, n in stones_dict.items():\n",
    "        for s in execute_rules(stone):\n",
    "            new[s] += n\n",
    "        new[stone] -= n\n",
    "        if new[stone] == 0:\n",
    "            new.pop(stone)\n",
    "    stones_dict = new\n",
    "        \n",
    "sum(stones_dict.values())"
   ]
  },
  {
   "cell_type": "code",
   "execution_count": null,
   "metadata": {},
   "outputs": [],
   "source": []
  }
 ],
 "metadata": {
  "kernelspec": {
   "display_name": "Python 3",
   "language": "python",
   "name": "python3"
  },
  "language_info": {
   "codemirror_mode": {
    "name": "ipython",
    "version": 3
   },
   "file_extension": ".py",
   "mimetype": "text/x-python",
   "name": "python",
   "nbconvert_exporter": "python",
   "pygments_lexer": "ipython3",
   "version": "3.13.1"
  }
 },
 "nbformat": 4,
 "nbformat_minor": 2
}
