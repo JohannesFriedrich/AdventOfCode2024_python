{
 "cells": [
  {
   "cell_type": "markdown",
   "metadata": {},
   "source": [
    "# Part 1"
   ]
  },
  {
   "cell_type": "code",
   "execution_count": 58,
   "metadata": {},
   "outputs": [
    {
     "name": "stdout",
     "output_type": "stream",
     "text": [
      "1371306\n"
     ]
    }
   ],
   "source": [
    "from collections import defaultdict, deque\n",
    "\n",
    "file_name = \"input.txt\"\n",
    "file = open(file_name, \"r\")\n",
    "data = file.read().strip().split(\"\\n\")\n",
    "\n",
    "G = [[c for c in line] for line in data]\n",
    "R = len(G)\n",
    "C = len(G[0])\n",
    "\n",
    "\n",
    "plants = defaultdict(list)\n",
    "regions = defaultdict(list)\n",
    "\n",
    "# find all plants\n",
    "for r in range(R):\n",
    "    for c in range(C):\n",
    "            plants[G[r][c]].append((r,c))\n",
    "\n",
    "def bfs(start_point, visited):\n",
    "\n",
    "    queue = deque()\n",
    "    queue.append(start_point)\n",
    "    perimeter = defaultdict(int)\n",
    "    while queue:\n",
    "        r, c = queue.popleft()\n",
    "        if (r,c) in visited:\n",
    "            continue\n",
    "        visited.add((r,c))\n",
    "        perimeter[(r,c)] = 4\n",
    "\n",
    "        for dr,dc in [(1,0),(-1,0),(0,1),(0,-1)]:\n",
    "            rr = r + dr\n",
    "            cc = c + dc\n",
    "            if 0 <= rr < R and 0 <= cc < C and G[rr][cc] == G[r][c]:\n",
    "                perimeter[(r,c)] -= 1\n",
    "                if (rr,cc) not in visited:\n",
    "                    queue.append((rr,cc))\n",
    "    return visited, perimeter\n",
    "\n",
    "res = 0\n",
    "for plant, coords in plants.items():\n",
    "    plots = set(coords)\n",
    "    while plots:\n",
    "        visited = set()\n",
    "        start = [v for i,v in enumerate(plots) if i == 0][0]\n",
    "        visited, perimeter = bfs(start, visited)\n",
    "        res += len(visited) * sum(perimeter.values())\n",
    "        plots = plots - visited\n",
    "\n",
    "print(res)\n"
   ]
  },
  {
   "cell_type": "markdown",
   "metadata": {},
   "source": [
    "# Part 2"
   ]
  },
  {
   "cell_type": "code",
   "execution_count": null,
   "metadata": {},
   "outputs": [],
   "source": []
  }
 ],
 "metadata": {
  "kernelspec": {
   "display_name": "Python 3",
   "language": "python",
   "name": "python3"
  },
  "language_info": {
   "codemirror_mode": {
    "name": "ipython",
    "version": 3
   },
   "file_extension": ".py",
   "mimetype": "text/x-python",
   "name": "python",
   "nbconvert_exporter": "python",
   "pygments_lexer": "ipython3",
   "version": "3.13.1"
  }
 },
 "nbformat": 4,
 "nbformat_minor": 2
}
