{
 "cells": [
  {
   "cell_type": "markdown",
   "metadata": {},
   "source": [
    "# Part 1"
   ]
  },
  {
   "cell_type": "code",
   "execution_count": null,
   "metadata": {},
   "outputs": [
    {
     "name": "stdout",
     "output_type": "stream",
     "text": [
      "31761\n"
     ]
    }
   ],
   "source": [
    "import re\n",
    "file_name = \"input.txt\"\n",
    "file = open(file_name, \"r\")\n",
    "data = file.read().strip().split(\"\\n\\n\")\n",
    "\n",
    "data = [dat.split(\"\\n\") for dat in data]\n",
    "\n",
    "def calc_solution(machine):\n",
    "    xA = machine[0][0]\n",
    "    xB = machine[1][0]\n",
    "    yA = machine[0][1]\n",
    "    yB = machine[1][1]\n",
    "    X = machine[2][0]\n",
    "    Y = machine[2][1]\n",
    "\n",
    "    res_B = (xA*Y-yA * X) /(xA*yB-yA*xB)\n",
    "    res_A = (X - xB * res_B)/xA\n",
    "\n",
    "    if res_A.is_integer() and res_B.is_integer() and res_A < 100 and res_B < 100:\n",
    "        return int(res_A * 3 + res_B)\n",
    "    return 0\n",
    "\n",
    "machines = []\n",
    "res = 0\n",
    "for i in data:\n",
    "    machine = []\n",
    "    for line in i:\n",
    "        machine.append([int(j) for j in  re.findall(r\"\\d+\", line)])\n",
    "    res += calc_solution(machine)\n",
    "\n",
    "print(res)"
   ]
  },
  {
   "cell_type": "markdown",
   "metadata": {},
   "source": [
    "# Part 2"
   ]
  },
  {
   "cell_type": "code",
   "execution_count": null,
   "metadata": {},
   "outputs": [
    {
     "name": "stdout",
     "output_type": "stream",
     "text": [
      "90798500745591\n"
     ]
    }
   ],
   "source": [
    "add = 10000000000000\n",
    "\n",
    "import re\n",
    "file_name = \"input.txt\"\n",
    "file = open(file_name, \"r\")\n",
    "data = file.read().strip().split(\"\\n\\n\")\n",
    "\n",
    "data = [dat.split(\"\\n\") for dat in data]\n",
    "\n",
    "def calc_solution(machine):\n",
    "    xA = machine[0][0]\n",
    "    xB = machine[1][0]\n",
    "    yA = machine[0][1]\n",
    "    yB = machine[1][1]\n",
    "    X = machine[2][0] + add\n",
    "    Y = machine[2][1] + add\n",
    "\n",
    "    res_B = (xA*Y-yA * X) /(xA*yB-yA*xB)\n",
    "    res_A = (X - xB * res_B)/xA\n",
    "\n",
    "    if res_A.is_integer() and res_B.is_integer():\n",
    "        return int(res_A * 3 + res_B)\n",
    "    return 0\n",
    "\n",
    "machines = []\n",
    "res = 0\n",
    "for i in data:\n",
    "    machine = []\n",
    "    for line in i:\n",
    "        machine.append([int(j) for j in  re.findall(r\"\\d+\", line)])\n",
    "    res += calc_solution(machine)\n",
    "\n",
    "print(res)"
   ]
  },
  {
   "cell_type": "code",
   "execution_count": null,
   "metadata": {},
   "outputs": [],
   "source": []
  }
 ],
 "metadata": {
  "kernelspec": {
   "display_name": "Python 3",
   "language": "python",
   "name": "python3"
  },
  "language_info": {
   "codemirror_mode": {
    "name": "ipython",
    "version": 3
   },
   "file_extension": ".py",
   "mimetype": "text/x-python",
   "name": "python",
   "nbconvert_exporter": "python",
   "pygments_lexer": "ipython3",
   "version": "3.13.1"
  }
 },
 "nbformat": 4,
 "nbformat_minor": 2
}
