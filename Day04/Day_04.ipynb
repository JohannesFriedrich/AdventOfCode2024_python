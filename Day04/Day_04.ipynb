{
 "cells": [
  {
   "cell_type": "markdown",
   "metadata": {},
   "source": [
    "# Part 1"
   ]
  },
  {
   "cell_type": "code",
   "execution_count": null,
   "metadata": {},
   "outputs": [],
   "source": [
    "file_name = \"input.txt\"\n",
    "\n",
    "file = open(file_name, \"r\")\n",
    "data = file.read().strip().split(\"\\n\")\n",
    "\n",
    "G = [[c for c in line] for line in data]\n",
    "R = len(G)\n",
    "C = len(G[0])\n",
    "\n",
    "dir = [(-1,-1),(-1,0),(-1,1),(0,1),(1,1),(1,0),(1,-1),(0,-1)]\n",
    "word = \"XMAS\"\n",
    "\n",
    "def check_string(r, c, d):\n",
    "    dx, dy = d\n",
    "    for idx, letter in enumerate(word):\n",
    "        rr = r + idx * dx\n",
    "        cc = c + idx * dy\n",
    "        \n",
    "        if not (0 <= rr < R and 0 <= cc < C):\n",
    "            return False\n",
    "        if G[rr][cc] != letter:\n",
    "            return False\n",
    "    return True\n",
    "\n",
    "res = 0\n",
    "for r in range(R):\n",
    "    for c in range(C):\n",
    "        for d in dir:\n",
    "            res += check_string(r,c,d)\n",
    "\n",
    "print(res)"
   ]
  },
  {
   "cell_type": "markdown",
   "metadata": {},
   "source": [
    "# Part 2"
   ]
  },
  {
   "cell_type": "code",
   "execution_count": null,
   "metadata": {},
   "outputs": [
    {
     "name": "stdout",
     "output_type": "stream",
     "text": [
      "1974\n"
     ]
    }
   ],
   "source": [
    "file_name = \"input.txt\"\n",
    "\n",
    "file = open(file_name, \"r\")\n",
    "data = file.read().strip().split(\"\\n\")\n",
    "\n",
    "G = [[c for c in line] for line in data]\n",
    "R = len(G)\n",
    "C = len(G[0])\n",
    "\n",
    "def check_string(r, c):\n",
    "    if not (0<= r-1 and r+1<R and 0<=c-1 and c+1<C):\n",
    "        return False\n",
    "    if G[r-1][c-1] == \"M\" and G[r+1][c+1] == \"S\" and G[r-1][c+1] == \"M\" and G[r+1][c-1] == \"S\":\n",
    "        return True\n",
    "    if G[r-1][c-1] == \"M\" and G[r+1][c+1] == \"S\" and G[r-1][c+1] == \"S\" and G[r+1][c-1] == \"M\":\n",
    "        return True\n",
    "    if G[r-1][c-1] == \"S\" and G[r+1][c+1] == \"M\" and G[r-1][c+1] == \"S\" and G[r+1][c-1] == \"M\":\n",
    "        return True\n",
    "    if G[r-1][c-1] == \"S\" and G[r+1][c+1] == \"M\" and G[r-1][c+1] == \"M\" and G[r+1][c-1] == \"S\":\n",
    "        return True\n",
    "    return False\n",
    "\n",
    "res = 0\n",
    "for r in range(R):\n",
    "    for c in range(C):\n",
    "        if G[r][c] == \"A\":\n",
    "            res += check_string(r,c)\n",
    "\n",
    "print(res)"
   ]
  },
  {
   "cell_type": "code",
   "execution_count": null,
   "metadata": {},
   "outputs": [],
   "source": []
  }
 ],
 "metadata": {
  "kernelspec": {
   "display_name": "Python 3",
   "language": "python",
   "name": "python3"
  },
  "language_info": {
   "codemirror_mode": {
    "name": "ipython",
    "version": 3
   },
   "file_extension": ".py",
   "mimetype": "text/x-python",
   "name": "python",
   "nbconvert_exporter": "python",
   "pygments_lexer": "ipython3",
   "version": "3.12.6"
  }
 },
 "nbformat": 4,
 "nbformat_minor": 2
}
