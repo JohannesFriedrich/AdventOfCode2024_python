{
 "cells": [
  {
   "cell_type": "markdown",
   "metadata": {},
   "source": [
    "# Part 1"
   ]
  },
  {
   "cell_type": "code",
   "execution_count": 69,
   "metadata": {},
   "outputs": [
    {
     "name": "stdout",
     "output_type": "stream",
     "text": [
      "6279058075753\n"
     ]
    }
   ],
   "source": [
    "file_name = \"input.txt\"\n",
    "\n",
    "file = open(file_name, \"r\")\n",
    "disc_map = file.read()\n",
    "\n",
    "expanded_list = []\n",
    "\n",
    "ID = 0\n",
    "for i, v in enumerate(disc_map):\n",
    "    if i%2==0: # it´s a file\n",
    "        for i in range(int(v)):\n",
    "            expanded_list.append(str(ID))\n",
    "        ID += 1\n",
    "    else:\n",
    "        for i in range(int(v)):\n",
    "            expanded_list.append(\".\")\n",
    "\n",
    "checksum = 0\n",
    "idx = 0\n",
    "\n",
    "while True:\n",
    "    val = expanded_list[idx]\n",
    "    if idx >= len(expanded_list)-1:\n",
    "        break\n",
    "    if val == \".\":\n",
    "        val = expanded_list[-1]\n",
    "        if val == \".\":\n",
    "            del expanded_list[-1]\n",
    "            continue\n",
    "\n",
    "        expanded_list[idx] = val\n",
    "        del expanded_list[-1]\n",
    "\n",
    "    checksum += idx * int(val)\n",
    "    idx += 1\n",
    "    \n",
    "print(checksum)\n"
   ]
  },
  {
   "cell_type": "markdown",
   "metadata": {},
   "source": [
    "# Part 2"
   ]
  },
  {
   "cell_type": "code",
   "execution_count": null,
   "metadata": {},
   "outputs": [],
   "source": []
  }
 ],
 "metadata": {
  "kernelspec": {
   "display_name": "Python 3",
   "language": "python",
   "name": "python3"
  },
  "language_info": {
   "codemirror_mode": {
    "name": "ipython",
    "version": 3
   },
   "file_extension": ".py",
   "mimetype": "text/x-python",
   "name": "python",
   "nbconvert_exporter": "python",
   "pygments_lexer": "ipython3",
   "version": "3.13.1"
  }
 },
 "nbformat": 4,
 "nbformat_minor": 2
}
