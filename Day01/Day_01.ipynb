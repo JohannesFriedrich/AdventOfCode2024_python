{
 "cells": [
  {
   "cell_type": "markdown",
   "metadata": {},
   "source": [
    "# Part 1"
   ]
  },
  {
   "cell_type": "code",
   "execution_count": null,
   "metadata": {},
   "outputs": [
    {
     "name": "stdout",
     "output_type": "stream",
     "text": [
      "1765812\n"
     ]
    }
   ],
   "source": [
    "file_name = \"input.txt\"\n",
    "file = open(file_name, \"r\")\n",
    "data = file.read().strip().split(\"\\n\")\n",
    "\n",
    "lists = [line.split() for line in data]\n",
    "\n",
    "l1 = []\n",
    "l2 = []\n",
    "\n",
    "for line in lists:\n",
    "    l1.append(int(line[0]))\n",
    "    l2.append(int(line[1]))\n",
    "\n",
    "l1 = sorted(l1)\n",
    "l2 = sorted(l2)\n",
    "\n",
    "res = 0\n",
    "for i,v in enumerate(l1):\n",
    "    res += abs(v - l2[i])\n",
    "\n",
    "print(res)\n"
   ]
  },
  {
   "cell_type": "markdown",
   "metadata": {},
   "source": [
    "# Part 2"
   ]
  },
  {
   "cell_type": "code",
   "execution_count": 22,
   "metadata": {},
   "outputs": [
    {
     "name": "stdout",
     "output_type": "stream",
     "text": [
      "20520794\n"
     ]
    }
   ],
   "source": [
    "from collections import Counter\n",
    "file_name = \"input.txt\"\n",
    "file = open(file_name, \"r\")\n",
    "data = file.read().strip().split(\"\\n\")\n",
    "\n",
    "lists = [line.split() for line in data]\n",
    "\n",
    "l1 = []\n",
    "l2 = []\n",
    "\n",
    "for line in lists:\n",
    "    l1.append(int(line[0]))\n",
    "    l2.append(int(line[1]))\n",
    "\n",
    "v1 = Counter(l1)\n",
    "v2 = Counter(l2)\n",
    "\n",
    "res = 0\n",
    "for i in v1:\n",
    "    if i in v2:\n",
    "        res += i * v2.get(i) * v1.get(i)\n",
    "\n",
    "print(res)\n"
   ]
  }
 ],
 "metadata": {
  "kernelspec": {
   "display_name": "Python 3",
   "language": "python",
   "name": "python3"
  },
  "language_info": {
   "codemirror_mode": {
    "name": "ipython",
    "version": 3
   },
   "file_extension": ".py",
   "mimetype": "text/x-python",
   "name": "python",
   "nbconvert_exporter": "python",
   "pygments_lexer": "ipython3",
   "version": "3.12.6"
  }
 },
 "nbformat": 4,
 "nbformat_minor": 2
}
