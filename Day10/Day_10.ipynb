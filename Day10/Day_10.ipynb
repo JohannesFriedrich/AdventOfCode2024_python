{
 "cells": [
  {
   "cell_type": "markdown",
   "metadata": {},
   "source": [
    "# Part 1"
   ]
  },
  {
   "cell_type": "code",
   "execution_count": null,
   "metadata": {},
   "outputs": [
    {
     "name": "stdout",
     "output_type": "stream",
     "text": [
      "737\n"
     ]
    }
   ],
   "source": [
    "from collections import deque\n",
    "\n",
    "file_name = \"input.txt\"\n",
    "file = open(file_name, \"r\")\n",
    "data = file.read().strip().split(\"\\n\")\n",
    "\n",
    "G = [[int(c) for c in line] for line in data]\n",
    "R = len(G)\n",
    "C = len(G[0])\n",
    "\n",
    "start_points = []\n",
    "\n",
    "for r in range(R):\n",
    "    for c in range(C):\n",
    "        if G[r][c] == 0:\n",
    "            start_points.append((r,c,0))\n",
    "\n",
    "def dfs(start_point):\n",
    "\n",
    "    visited = set()\n",
    "    queue = deque()\n",
    "    queue.append(start_point)\n",
    "    nr_paths = 0\n",
    "\n",
    "    while queue:\n",
    "        r, c, d = queue.pop()\n",
    "        if (r,c) in visited:\n",
    "            continue\n",
    "        visited.add((r,c))\n",
    "\n",
    "        if G[r][c] == 9:\n",
    "            nr_paths +=1\n",
    "\n",
    "        for dr,dc in [(1,0),(-1,0),(0,1),(0,-1)]:\n",
    "            rr = r + dr\n",
    "            cc = c + dc\n",
    "            if 0 <= rr < R and 0 <= cc < C and (rr,cc) not in visited and G[rr][cc] == d+1:\n",
    "                queue.append((rr,cc,d+1))\n",
    "\n",
    "    return(nr_paths)\n",
    "\n",
    "res = 0\n",
    "for s in start_points:\n",
    "    res += dfs(s)\n",
    "\n",
    "print(res)"
   ]
  },
  {
   "cell_type": "markdown",
   "metadata": {},
   "source": [
    "# Part 2"
   ]
  },
  {
   "cell_type": "code",
   "execution_count": 16,
   "metadata": {},
   "outputs": [
    {
     "name": "stdout",
     "output_type": "stream",
     "text": [
      "1619\n"
     ]
    }
   ],
   "source": [
    "from collections import deque\n",
    "\n",
    "file_name = \"input.txt\"\n",
    "file = open(file_name, \"r\")\n",
    "data = file.read().strip().split(\"\\n\")\n",
    "\n",
    "G = [[int(c) for c in line] for line in data]\n",
    "R = len(G)\n",
    "C = len(G[0])\n",
    "\n",
    "start_points = []\n",
    "end_points = []\n",
    "\n",
    "for r in range(R):\n",
    "    for c in range(C):\n",
    "        if G[r][c] == 0:\n",
    "            start_points.append((r,c,0))\n",
    "        if G[r][c] == 9:\n",
    "            end_points.append((r,c))\n",
    "\n",
    "def dfs(start_point, end_point):\n",
    "\n",
    "    visited = set()\n",
    "    queue = deque()\n",
    "    queue.append(start_point)\n",
    "    nr_paths = 0\n",
    "\n",
    "    while queue:\n",
    "\n",
    "        r, c, d = queue.pop()\n",
    "        if (r,c) in visited:\n",
    "            continue\n",
    "        visited.add((r,c))\n",
    "\n",
    "        if (r,c) == end_point:\n",
    "            nr_paths +=1\n",
    "            visited = set()\n",
    "\n",
    "        for dr,dc in [(1,0),(-1,0),(0,1),(0,-1)]:\n",
    "            rr = r + dr\n",
    "            cc = c + dc\n",
    "            if 0 <= rr < R and 0 <= cc < C and (rr,cc) not in visited and G[rr][cc] == d+1:\n",
    "                queue.append((rr,cc,d+1))\n",
    "\n",
    "    return(nr_paths)\n",
    "\n",
    "res = 0\n",
    "for s in start_points:\n",
    "    for e in end_points:\n",
    "        res += dfs(s,e)\n",
    "\n",
    "print(res)"
   ]
  },
  {
   "cell_type": "code",
   "execution_count": null,
   "metadata": {},
   "outputs": [],
   "source": []
  }
 ],
 "metadata": {
  "kernelspec": {
   "display_name": "Python 3",
   "language": "python",
   "name": "python3"
  },
  "language_info": {
   "codemirror_mode": {
    "name": "ipython",
    "version": 3
   },
   "file_extension": ".py",
   "mimetype": "text/x-python",
   "name": "python",
   "nbconvert_exporter": "python",
   "pygments_lexer": "ipython3",
   "version": "3.13.1"
  }
 },
 "nbformat": 4,
 "nbformat_minor": 2
}
