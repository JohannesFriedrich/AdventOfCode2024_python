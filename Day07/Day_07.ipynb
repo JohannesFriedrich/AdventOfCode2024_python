{
 "cells": [
  {
   "cell_type": "markdown",
   "metadata": {},
   "source": [
    "# Part 1"
   ]
  },
  {
   "cell_type": "code",
   "execution_count": null,
   "metadata": {},
   "outputs": [
    {
     "data": {
      "text/plain": [
       "21572148763543"
      ]
     },
     "execution_count": 55,
     "metadata": {},
     "output_type": "execute_result"
    }
   ],
   "source": [
    "from itertools import product\n",
    "\n",
    "file_name = \"input.txt\"\n",
    "\n",
    "file = open(file_name, \"r\")\n",
    "data = file.read().strip().split(\"\\n\")\n",
    "\n",
    "eqs = {}                                   \n",
    "for line in data:\n",
    "    res, nums = line.split(\": \")\n",
    "    eqs[int(res)] = [int(i) for i in nums.strip().split(\" \")]\n",
    "\n",
    "\n",
    "def check_eq(res, nums):\n",
    "    n = len(nums)-1\n",
    "    combos = list(product('+*', repeat=n))\n",
    "    for combo in combos:\n",
    "        calc_res = nums[0]\n",
    "        for i, operator in enumerate(combo):\n",
    "            if operator == \"+\":\n",
    "                calc_res  += nums[i+1]\n",
    "            else:\n",
    "                calc_res  *= nums[i+1]\n",
    "        if calc_res == res:\n",
    "            return res\n",
    "    return 0\n",
    "\n",
    "sum([check_eq(eq, nums) for eq, nums in eqs.items()])\n",
    "        \n"
   ]
  },
  {
   "cell_type": "markdown",
   "metadata": {},
   "source": [
    "# Part 2"
   ]
  },
  {
   "cell_type": "code",
   "execution_count": 63,
   "metadata": {},
   "outputs": [
    {
     "data": {
      "text/plain": [
       "581941094529163"
      ]
     },
     "execution_count": 63,
     "metadata": {},
     "output_type": "execute_result"
    }
   ],
   "source": [
    "from itertools import product\n",
    "\n",
    "file_name = \"input.txt\"\n",
    "\n",
    "file = open(file_name, \"r\")\n",
    "data = file.read().strip().split(\"\\n\")\n",
    "\n",
    "eqs = {}                                   \n",
    "for line in data:\n",
    "    res, nums = line.split(\": \")\n",
    "    eqs[int(res)] = [int(i) for i in nums.strip().split(\" \")]\n",
    "\n",
    "\n",
    "# eqs = {156: [15,6]}\n",
    "def check_eq(res, nums):\n",
    "    n = len(nums)-1\n",
    "    combos = list(product('+*&', repeat=n))\n",
    "    for combo in combos:\n",
    "        calc_res = nums[0]\n",
    "        for i, operator in enumerate(combo):\n",
    "            if operator == \"+\":\n",
    "                calc_res  += nums[i+1]\n",
    "            elif operator == \"*\":\n",
    "                calc_res  *= nums[i+1]\n",
    "            else:\n",
    "                calc_res  = calc_res * 10**len(str(nums[i+1])) + nums[i+1]\n",
    "        if calc_res == res:\n",
    "            return res\n",
    "    return 0\n",
    "\n",
    "sum([check_eq(eq, nums) for eq, nums in eqs.items()])\n",
    "        \n"
   ]
  }
 ],
 "metadata": {
  "kernelspec": {
   "display_name": "Python 3",
   "language": "python",
   "name": "python3"
  },
  "language_info": {
   "codemirror_mode": {
    "name": "ipython",
    "version": 3
   },
   "file_extension": ".py",
   "mimetype": "text/x-python",
   "name": "python",
   "nbconvert_exporter": "python",
   "pygments_lexer": "ipython3",
   "version": "3.12.6"
  }
 },
 "nbformat": 4,
 "nbformat_minor": 2
}
