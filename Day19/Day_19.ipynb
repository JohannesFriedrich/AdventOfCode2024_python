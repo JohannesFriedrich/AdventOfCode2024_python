{
 "cells": [
  {
   "cell_type": "markdown",
   "metadata": {},
   "source": [
    "# Part 1"
   ]
  },
  {
   "cell_type": "code",
   "execution_count": null,
   "metadata": {},
   "outputs": [
    {
     "name": "stdout",
     "output_type": "stream",
     "text": [
      "308\n"
     ]
    }
   ],
   "source": [
    "file_name = \"input.txt\"\n",
    "file = open(file_name, \"r\")\n",
    "data = file.read().strip().split(\"\\n\\n\")\n",
    "\n",
    "patterns, towels = data\n",
    "patterns = patterns.split(\", \")\n",
    "towels = towels.split(\"\\n\")\n",
    "\n",
    "memory = dict()\n",
    "def combis(string, patterns):\n",
    "    if string in memory:\n",
    "        return memory[string]\n",
    "    \n",
    "    ans = 0\n",
    "    if len(string) == 0:\n",
    "        return 1\n",
    "    \n",
    "    for pattern in patterns:\n",
    "        if string.startswith(pattern):\n",
    "            ans += combis(string[len(pattern):], patterns)\n",
    "    \n",
    "    memory[string] = ans\n",
    "    return ans\n",
    "\n",
    "res = 0\n",
    "for towel in towels:\n",
    "    if combis(towel, patterns) > 0:\n",
    "        res += 1\n",
    "print(res)"
   ]
  },
  {
   "cell_type": "markdown",
   "metadata": {},
   "source": [
    "# Part 2"
   ]
  },
  {
   "cell_type": "markdown",
   "metadata": {},
   "source": []
  },
  {
   "cell_type": "code",
   "execution_count": 12,
   "metadata": {},
   "outputs": [
    {
     "name": "stdout",
     "output_type": "stream",
     "text": [
      "662726441391898\n"
     ]
    }
   ],
   "source": [
    "res = 0\n",
    "for towel in towels:\n",
    "    res += combis(towel, patterns)\n",
    "\n",
    "print(res)"
   ]
  }
 ],
 "metadata": {
  "kernelspec": {
   "display_name": "Python 3",
   "language": "python",
   "name": "python3"
  },
  "language_info": {
   "codemirror_mode": {
    "name": "ipython",
    "version": 3
   },
   "file_extension": ".py",
   "mimetype": "text/x-python",
   "name": "python",
   "nbconvert_exporter": "python",
   "pygments_lexer": "ipython3",
   "version": "3.13.1"
  }
 },
 "nbformat": 4,
 "nbformat_minor": 2
}
