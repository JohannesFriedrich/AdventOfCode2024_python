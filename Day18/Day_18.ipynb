{
 "cells": [
  {
   "cell_type": "markdown",
   "metadata": {},
   "source": [
    "# Part 1"
   ]
  },
  {
   "cell_type": "code",
   "execution_count": 11,
   "metadata": {},
   "outputs": [
    {
     "name": "stdout",
     "output_type": "stream",
     "text": [
      "250\n"
     ]
    }
   ],
   "source": [
    "from collections import deque\n",
    "\n",
    "file_name = \"input.txt\"\n",
    "file = open(file_name, \"r\")\n",
    "data = file.read().strip().split(\"\\n\")\n",
    "data = [(int(x), int(y)) for x,y in (line.split(\",\") for line in data)]\n",
    "\n",
    "R = 71\n",
    "C = 71\n",
    "G = [[\".\" for c in range(C)] for line in range(R)]\n",
    "\n",
    "start_r, start_c = 0,0\n",
    "end_r, end_c = 70,70\n",
    "\n",
    "\n",
    "for c,r in data[:1023]:\n",
    "    G[r][c] = \"#\"\n",
    "\n",
    "def bfs(start_r, start_c, end_r, end_c):\n",
    "\n",
    "    visited = set()\n",
    "    queue = deque()\n",
    "    queue.append((start_r, start_c, 0))\n",
    "    while queue:\n",
    "        r, c, d = queue.popleft()\n",
    "\n",
    "        if (r,c) in visited:\n",
    "            continue\n",
    "\n",
    "        if r == end_r and c == end_c:\n",
    "            print(d)\n",
    "            break\n",
    "        visited.add((r,c))  \n",
    "\n",
    "        for dr,dc in [(1,0),(-1,0),(0,1),(0,-1)]:\n",
    "            rr = r + dr\n",
    "            cc = c + dc\n",
    "            if 0 <= rr < R and 0 <= cc < C and G[rr][cc] != \"#\" and (rr,cc) not in visited:\n",
    "                queue.append((rr,cc,d+1))\n",
    "\n",
    "    return None\n",
    "\n",
    "bfs(start_r, start_c, end_r, end_c)"
   ]
  },
  {
   "cell_type": "markdown",
   "metadata": {},
   "source": [
    "# Part 2"
   ]
  },
  {
   "cell_type": "markdown",
   "metadata": {},
   "source": []
  },
  {
   "cell_type": "code",
   "execution_count": 22,
   "metadata": {},
   "outputs": [
    {
     "name": "stdout",
     "output_type": "stream",
     "text": [
      "56,8\n"
     ]
    }
   ],
   "source": [
    "from collections import deque\n",
    "\n",
    "file_name = \"input.txt\"\n",
    "file = open(file_name, \"r\")\n",
    "data = file.read().strip().split(\"\\n\")\n",
    "data = [(int(x), int(y)) for x,y in (line.split(\",\") for line in data)]\n",
    "\n",
    "R = 71\n",
    "C = 71\n",
    "G = [[\".\" for c in range(C)] for line in range(R)]\n",
    "\n",
    "start_r, start_c = 0,0\n",
    "end_r, end_c = 70,70\n",
    "\n",
    "for c,r in data[:1024]:\n",
    "    G[r][c] = \"#\"\n",
    "    \n",
    "def bfs(start_r, start_c, end_r, end_c,G):\n",
    "    visited = set()\n",
    "    queue = deque()\n",
    "    queue.append((start_r, start_c, 0))\n",
    "    while queue:\n",
    "        r, c, d = queue.popleft()\n",
    "\n",
    "        if (r,c) in visited:\n",
    "            continue\n",
    "\n",
    "        if r == end_r and c == end_c:\n",
    "            return True\n",
    "        visited.add((r,c))  \n",
    "\n",
    "        for dr,dc in [(1,0),(-1,0),(0,1),(0,-1)]:\n",
    "            rr = r + dr\n",
    "            cc = c + dc\n",
    "            if 0 <= rr < R and 0 <= cc < C and G[rr][cc] != \"#\" and (rr,cc) not in visited:\n",
    "                queue.append((rr,cc,d+1))\n",
    "\n",
    "    return False\n",
    "\n",
    "i = 1024\n",
    "while True:\n",
    "    c,r = data[i]\n",
    "    G[r][c] = \"#\"\n",
    "    if not bfs(start_r, start_c, end_r, end_c,G):\n",
    "        print(f\"{c},{r}\")\n",
    "        break\n",
    "    i += 1\n",
    "\n"
   ]
  },
  {
   "cell_type": "code",
   "execution_count": null,
   "metadata": {},
   "outputs": [],
   "source": []
  }
 ],
 "metadata": {
  "kernelspec": {
   "display_name": "Python 3",
   "language": "python",
   "name": "python3"
  },
  "language_info": {
   "codemirror_mode": {
    "name": "ipython",
    "version": 3
   },
   "file_extension": ".py",
   "mimetype": "text/x-python",
   "name": "python",
   "nbconvert_exporter": "python",
   "pygments_lexer": "ipython3",
   "version": "3.13.1"
  }
 },
 "nbformat": 4,
 "nbformat_minor": 2
}
