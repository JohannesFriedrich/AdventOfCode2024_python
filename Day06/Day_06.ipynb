{
 "cells": [
  {
   "cell_type": "markdown",
   "metadata": {},
   "source": [
    "# Part 1"
   ]
  },
  {
   "cell_type": "code",
   "execution_count": null,
   "metadata": {},
   "outputs": [],
   "source": [
    "file_name = \"input.txt\"\n",
    "\n",
    "file = open(file_name, \"r\")\n",
    "data = file.read().strip().split(\"\\n\")\n",
    "\n",
    "G = [[c for c in line] for line in data]\n",
    "R = len(G)\n",
    "C = len(G[0])\n",
    "\n",
    "# find start and obstacles\n",
    "obstructions = []\n",
    "steps = set()\n",
    "for r in range(R):\n",
    "    for c in range(C):\n",
    "        if G[r][c] == \"^\":\n",
    "            cur_pos = (r,c)\n",
    "            steps.add((r,c))\n",
    "        if G[r][c] == \"#\":\n",
    "            obstructions.append((r,c))\n",
    "\n",
    "dirs = [(-1,0), (0,1), (1,0), (0,-1)]\n",
    "\n",
    "cur_dir = 0\n",
    "while True:\n",
    "    new_r = cur_pos[0] + dirs[cur_dir][0]\n",
    "    new_c = cur_pos[1] + dirs[cur_dir][1]\n",
    "    if new_r <0 or new_r >= R or new_c <0 or new_c >=C:\n",
    "        break\n",
    "    elif G[new_r][new_c] == \"#\":\n",
    "        cur_dir = (cur_dir+1)%4\n",
    "    else:\n",
    "        cur_pos = (new_r, new_c) \n",
    "        steps.add(cur_pos)\n",
    "    \n",
    "print(len(steps))"
   ]
  },
  {
   "cell_type": "markdown",
   "metadata": {},
   "source": [
    "# Part 2"
   ]
  },
  {
   "cell_type": "code",
   "execution_count": 52,
   "metadata": {},
   "outputs": [
    {
     "name": "stdout",
     "output_type": "stream",
     "text": [
      "2188\n"
     ]
    }
   ],
   "source": [
    "file_name = \"input.txt\"\n",
    "\n",
    "file = open(file_name, \"r\")\n",
    "data = file.read().strip().split(\"\\n\")\n",
    "\n",
    "G = [[c for c in line] for line in data]\n",
    "R = len(G)\n",
    "C = len(G[0])\n",
    "cur_dir = 0\n",
    "\n",
    "# find start and obstacles\n",
    "obstructions = []\n",
    "steps = set()\n",
    "free_space = []\n",
    "for r in range(R):\n",
    "    for c in range(C):\n",
    "        if G[r][c] == \"^\":\n",
    "            start = (r,c)\n",
    "        if G[r][c] == \"#\":\n",
    "            obstructions.append((r,c))\n",
    "        if G[r][c] == \".\":\n",
    "            free_space.append((r,c))\n",
    "\n",
    "dirs = [(-1,0), (0,1), (1,0), (0,-1)]\n",
    "\n",
    "def is_inf_loop():\n",
    "    cur_dir = 0\n",
    "    cur_pos = start\n",
    "    steps = set()\n",
    "    steps.add((start[0], start[1], cur_dir))\n",
    "\n",
    "    while True:\n",
    "        new_r = cur_pos[0] + dirs[cur_dir][0]\n",
    "        new_c = cur_pos[1] + dirs[cur_dir][1]\n",
    "        if (new_r, new_c, cur_dir) in steps:\n",
    "            return True\n",
    "        if new_r <0 or new_r >= R or new_c <0 or new_c >=C:\n",
    "            return False\n",
    "        elif G[new_r][new_c] == \"#\":\n",
    "            cur_dir = (cur_dir+1)%4\n",
    "        else:\n",
    "            cur_pos = (new_r, new_c) \n",
    "            steps.add((new_r, new_c, cur_dir))\n",
    "    \n",
    "\n",
    "res = 0\n",
    "for x,y in free_space:\n",
    "    G[x][y] = \"#\"\n",
    "    res += is_inf_loop()\n",
    "    G[x][y] = \".\"\n",
    "\n",
    "print(res)"
   ]
  },
  {
   "cell_type": "code",
   "execution_count": null,
   "metadata": {},
   "outputs": [],
   "source": []
  }
 ],
 "metadata": {
  "kernelspec": {
   "display_name": "Python 3",
   "language": "python",
   "name": "python3"
  },
  "language_info": {
   "codemirror_mode": {
    "name": "ipython",
    "version": 3
   },
   "file_extension": ".py",
   "mimetype": "text/x-python",
   "name": "python",
   "nbconvert_exporter": "python",
   "pygments_lexer": "ipython3",
   "version": "3.12.6"
  }
 },
 "nbformat": 4,
 "nbformat_minor": 2
}
